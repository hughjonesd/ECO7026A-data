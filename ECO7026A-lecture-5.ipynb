{
  "nbformat": 4,
  "nbformat_minor": 0,
  "metadata": {
    "colab": {
      "name": "ECO7026A-lecture-5.ipynb",
      "provenance": [],
      "collapsed_sections": [],
      "authorship_tag": "ABX9TyN65GRtlnPtcKaXKz84mAyx"
    },
    "kernelspec": {
      "name": "python3",
      "display_name": "Python 3"
    },
    "language_info": {
      "name": "python"
    }
  },
  "cells": [
    {
      "cell_type": "markdown",
      "metadata": {
        "id": "_jD7QkbMTwws"
      },
      "source": [
        "# ECO7026A Lecture 5\n",
        "\n",
        "## David Hugh-Jones\n",
        "\n",
        "\n",
        "Welcome to lecture 5!\n",
        "\n",
        "The materials for this week are available as a Jupyter notebook. Jupyter notebooks mix rich text with runnable python code. So, you\n",
        "can follow along with this lecture, run the python examples, and even add your own notes and code. To do this go to \n",
        "\n",
        "https://colab.research.google.com/github/hughjonesd/ECO7026A/blob/main/ECO7026A_lecture_5.ipynb\n",
        "\n",
        "### Using Jupyter notebooks\n",
        "\n",
        "To get your own copy of this notebook, choose **File** above then **Save a copy in Drive**. (You will need a Google Drive account.)\n",
        "\n",
        "To run the Python examples, first click **Connect** in the top right corner. Then pick \"Connect to a hosted runtime\". You should see a tick mark appear.\n",
        "\n",
        "When you've done that, click in the field below, and either press the **play** button or type **Shift+Enter**. This executes the Python cell.\n",
        "\n",
        "\n"
      ]
    },
    {
      "cell_type": "code",
      "metadata": {
        "colab": {
          "base_uri": "https://localhost:8080/"
        },
        "id": "jGKx5BeB0L8O",
        "outputId": "2afa5e38-9cdb-4587-caa1-dc16208bf163"
      },
      "source": [
        "# click here to edit me\n",
        "print(2+2)"
      ],
      "execution_count": null,
      "outputs": [
        {
          "output_type": "stream",
          "name": "stdout",
          "text": [
            "4\n"
          ]
        }
      ]
    },
    {
      "cell_type": "markdown",
      "metadata": {
        "id": "uq7zBN99zAgv"
      },
      "source": [
        "You can also edit text cells, like this one, by double clicking on them.\n",
        "\n",
        "## Data import\n",
        "\n",
        "In the next two weeks, we'll learn how to clean data using Python.\n",
        "\n",
        "Cleaning data takes 95% of the time in most research projects!\n",
        "\n",
        "To do this, we're going to replicate a behavioural economics paper: 'Honesty, beliefs about honesty, and economic growth in 15 countries' (Journal of Economic Behavior & Organization 2016). This reports an online experiment. \n",
        "\n",
        "First, let's import pandas and download our data.\n",
        "\n"
      ]
    },
    {
      "cell_type": "code",
      "metadata": {
        "id": "2OLYDb9uT-Br",
        "colab": {
          "base_uri": "https://localhost:8080/"
        },
        "outputId": "7eebfa55-1c7e-49f7-b47a-83ee0c6c3bd7"
      },
      "source": [
        "import pandas as pd\n",
        "\n",
        "hon_data = pd.read_excel(\"https://raw.githubusercontent.com/hughjonesd/ECO7026A/main/honesty-data.xlsx\")\n",
        "hon_data.shape"
      ],
      "execution_count": null,
      "outputs": [
        {
          "output_type": "execute_result",
          "data": {
            "text/plain": [
              "(1682, 97)"
            ]
          },
          "metadata": {},
          "execution_count": 4
        }
      ]
    },
    {
      "cell_type": "markdown",
      "metadata": {
        "id": "S8bREn41QgHT"
      },
      "source": [
        "The experiment data came from Qualtrics as an Excel file. It is quite messy (download it yourself from https://github.com/hughjonesd/ECO7026A/blob/main/honesty-data.xlsx and take a look!)\n",
        "\n",
        "Data cleaning involves a standard set of common tasks:\n",
        "\n",
        "* Importing data from external files\n",
        "* \"Eyeballing\" the data manually\n",
        "* Removing unwanted rows\n",
        "* Removing unwanted columns\n",
        "* Renaming variables\n",
        "* Recoding variables, into a new or the same variable\n",
        "* Merging different datasets, by row or by column\n",
        "\n",
        "# Eyeballing data\n",
        "\n",
        "We have already seen how to use `hon_data.shape`.\n",
        "\n",
        "Adding a change to try to save to github.\n",
        "\n",
        "Adding a second commit :_-(\n",
        "\n",
        "\n",
        "\n",
        "\n",
        "\n"
      ]
    },
    {
      "cell_type": "code",
      "metadata": {
        "id": "eBmlEXitQrnE"
      },
      "source": [
        ""
      ],
      "execution_count": null,
      "outputs": []
    }
  ]
}